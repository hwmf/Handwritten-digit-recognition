{
 "cells": [
  {
   "cell_type": "markdown",
   "metadata": {
    "id": "zu_BOVHZaHiX"
   },
   "source": [
    "# **IA: Handwritten digit recognition**"
   ]
  },
  {
   "cell_type": "markdown",
   "metadata": {
    "id": "-rPOUBU-a4LZ"
   },
   "source": [
    "## *import libraries*"
   ]
  },
  {
   "cell_type": "code",
   "execution_count": 1,
   "metadata": {
    "id": "0k7kM00wdltv"
   },
   "outputs": [],
   "source": [
    "import torch\n",
    "from torch import nn\n",
    "import torchvision as tv\n",
    "import torchvision.transforms as transforms\n",
    "import matplotlib.pyplot as plt\n",
    "import numpy as np\n",
    "\n",
    "from torch import nn, optim\n",
    "from time import time\n",
    "from PySide2.QtWidgets import QApplication, QMainWindow, QPushButton, QTextEdit\n",
    "from PySide2.QtGui import QImage, QPainter, QMouseEvent, QPen, QPaintEvent\n",
    "from PySide2.QtCore import Qt, QPoint\n",
    "from PIL import Image"
   ]
  },
  {
   "cell_type": "code",
   "execution_count": 2,
   "metadata": {
    "id": "V8vE4Pzzfa_Z"
   },
   "outputs": [],
   "source": [
    "train_data = tv.datasets.MNIST('data', train=True, download=True, transform=transforms.ToTensor())"
   ]
  },
  {
   "cell_type": "code",
   "execution_count": 3,
   "metadata": {
    "id": "YUa55L6wi2JH"
   },
   "outputs": [],
   "source": [
    "#train_data "
   ]
  },
  {
   "cell_type": "code",
   "execution_count": 4,
   "metadata": {
    "id": "ll0UlbKBjqeX"
   },
   "outputs": [
    {
     "data": {
      "text/plain": [
       "Text(0.5, 1.0, '5')"
      ]
     },
     "execution_count": 4,
     "metadata": {},
     "output_type": "execute_result"
    },
    {
     "data": {
      "image/png": "[encoded data removed]",
      "text/plain": [
       "<Figure size 432x288 with 1 Axes>"
      ]
     },
     "metadata": {
      "needs_background": "light"
     },
     "output_type": "display_data"
    }
   ],
   "source": [
    "# un test\n",
    "plt.imshow(train_data[0][0].view(28,28))\n",
    "plt.title(train_data[0][1]) \n"
   ]
  },
  {
   "cell_type": "markdown",
   "metadata": {
    "id": "nQwtPvSi1HhC"
   },
   "source": [
    "# *Charger le data dans le dataloaders*"
   ]
  },
  {
   "cell_type": "code",
   "execution_count": 5,
   "metadata": {
    "id": "TxFou1b-1Uhn"
   },
   "outputs": [],
   "source": [
    "batch_size = 32\n",
    "train, valid =torch.utils.data.random_split(train_data,[50000,10000])\n",
    "train_loader= torch.utils.data.DataLoader(train, batch_size=batch_size)\n",
    "valid_loader= torch.utils.data.DataLoader(valid, batch_size=batch_size)"
   ]
  },
  {
   "cell_type": "markdown",
   "metadata": {
    "id": "fInM6cZPD3Pw"
   },
   "source": [
    "# *test*"
   ]
  },
  {
   "cell_type": "code",
   "execution_count": 6,
   "metadata": {
    "id": "MG_QVAl7OJjO"
   },
   "outputs": [],
   "source": [
    "#for images, labels in train_loader:\n",
    "  #grid = tv.utils.make_grid(images)\n",
    "  #plt.imshow(grid.numpy().transpose((1,2,0)))\n",
    "  #plt.title(labels.numpy())\n",
    "  #plt.show()\n",
    "  \n",
    "  #break;"
   ]
  },
  {
   "cell_type": "markdown",
   "metadata": {
    "id": "IrfkEjovWuMk"
   },
   "source": [
    "# *feature extraction*"
   ]
  },
  {
   "cell_type": "code",
   "execution_count": 7,
   "metadata": {
    "id": "OUK3P5U2JAF6"
   },
   "outputs": [],
   "source": [
    "\n",
    "def feature_extraction(image,nbr):\n",
    "      pnc=0\n",
    "      pni=0 \n",
    "      \n",
    "      ftr1=0\n",
    "      ftr2=0\n",
    "      ftr3=0\n",
    "      \n",
    "      for j in range(28):\n",
    "        for i in range (28):\n",
    "          if (image[nbr][0][0][j][i]==0):\n",
    "             pni =pni+1  \n",
    "  \n",
    "      \n",
    "      c=image[nbr][0]\n",
    "      b=c.view(1,1,16,7,7) \n",
    "      array1=[] \n",
    "      array2=[] \n",
    "      array3=[] \n",
    "      x=[]  \n",
    "      y=[]  \n",
    "      for k in range(16):\n",
    "        for j in range(7):\n",
    "          for i in range(7):\n",
    "           if (b[0][0][k][j][i]==0):\n",
    "            pnc=pnc+1  \n",
    "           if (b[0][0][k][j][i]!=0):\n",
    "            y.append(i)\n",
    "            x.append(j)\n",
    "        ftr1=pnc/pni \n",
    "        array1.append(ftr1) \n",
    "        p=0 \n",
    "        from scipy.stats import linregress\n",
    "        if (x!=[]):\n",
    "         p=linregress(x, y).slope \n",
    "         ftr2=2*p/(1+p*p) \n",
    "         ftr3=(1-p*p)/(1+p*p) \n",
    "        else : \n",
    "         ftr2=0\n",
    "         ftr3=1\n",
    "         \n",
    "        array2.append(ftr2)\n",
    "        array3.append(ftr3)\n",
    "      return (array1,array2,array3)\n",
    "        "
   ]
  },
  {
   "cell_type": "code",
   "execution_count": 8,
   "metadata": {
    "id": "jfzNJJRH3rjV"
   },
   "outputs": [],
   "source": [
    "#test\n",
    "#feature_extraction(train_data,10)\n"
   ]
  },
  {
   "cell_type": "markdown",
   "metadata": {
    "id": "m8B0PTcKPVWi"
   },
   "source": [
    "# *Tensor de taill 16x3*"
   ]
  },
  {
   "cell_type": "code",
   "execution_count": 9,
   "metadata": {
    "id": "Eo9MqB44Phbb"
   },
   "outputs": [
    {
     "name": "stdout",
     "output_type": "stream",
     "text": [
      "tensor([[ 0.0763,  0.0000,  1.0000],\n",
      "        [ 0.1526,  0.0000,  1.0000],\n",
      "        [ 0.2290,  0.0000,  1.0000],\n",
      "        [ 0.3053,  0.0000,  1.0000],\n",
      "        [ 0.3520, -0.1881,  0.9821],\n",
      "        [ 0.4019, -0.0522,  0.9986],\n",
      "        [ 0.4564, -0.1016,  0.9948],\n",
      "        [ 0.5016,  0.0738,  0.9973],\n",
      "        [ 0.5421, -0.0402,  0.9992],\n",
      "        [ 0.6012,  0.0096,  1.0000],\n",
      "        [ 0.6667,  0.0658,  0.9978],\n",
      "        [ 0.7321,  0.0751,  0.9972],\n",
      "        [ 0.7960,  0.0233,  0.9997],\n",
      "        [ 0.8676,  0.0240,  0.9997],\n",
      "        [ 0.9299,  0.0654,  0.9979],\n",
      "        [ 1.0000,  0.0702,  0.9975]])\n",
      "tensor([[ 0.0763,  0.1526,  0.2290,  0.3053,  0.3520,  0.4019,  0.4564,  0.5016,\n",
      "          0.5421,  0.6012,  0.6667,  0.7321,  0.7960,  0.8676,  0.9299,  1.0000],\n",
      "        [ 0.0000,  0.0000,  0.0000,  0.0000, -0.1881, -0.0522, -0.1016,  0.0738,\n",
      "         -0.0402,  0.0096,  0.0658,  0.0751,  0.0233,  0.0240,  0.0654,  0.0702],\n",
      "        [ 1.0000,  1.0000,  1.0000,  1.0000,  0.9821,  0.9986,  0.9948,  0.9973,\n",
      "          0.9992,  1.0000,  0.9978,  0.9972,  0.9997,  0.9997,  0.9979,  0.9975]])\n"
     ]
    }
   ],
   "source": [
    "x = torch.Tensor(list(feature_extraction(train_data,4))) \n",
    "print (torch.transpose(x, 0, 1)) #tensor sous forme [16*3]\n",
    "print (x)"
   ]
  },
  {
   "cell_type": "code",
   "execution_count": 10,
   "metadata": {
    "id": "L0SUPYh4IATY"
   },
   "outputs": [],
   "source": [
    "train , val =torch.utils.data.random_split(train_data,[50000,10000])\n",
    "train_loader=torch.utils.data.DataLoader(train,batch_size=24)\n",
    "val_loader=torch.utils.data.DataLoader(val,batch_size=24)"
   ]
  },
  {
   "cell_type": "markdown",
   "metadata": {
    "id": "q27WE7L1WBEl"
   },
   "source": [
    "# *création du réseau de neuron*"
   ]
  },
  {
   "cell_type": "code",
   "execution_count": 11,
   "metadata": {},
   "outputs": [
    {
     "name": "stdout",
     "output_type": "stream",
     "text": [
      "Sequential(\n",
      "  (0): Linear(in_features=784, out_features=64, bias=True)\n",
      "  (1): ReLU()\n",
      "  (2): Linear(in_features=64, out_features=32, bias=True)\n",
      "  (3): ReLU()\n",
      "  (4): Linear(in_features=32, out_features=10, bias=True)\n",
      "  (5): LogSoftmax(dim=1)\n",
      ")\n"
     ]
    }
   ],
   "source": [
    "input_size = 784\n",
    "hidden_sizes = [64, 32]\n",
    "output_size = 10\n",
    "\n",
    "model = nn.Sequential(nn.Linear(input_size, hidden_sizes[0]),\n",
    "                      nn.ReLU(),\n",
    "                      nn.Linear(hidden_sizes[0], hidden_sizes[1]),\n",
    "                      nn.ReLU(),\n",
    "                      nn.Linear(hidden_sizes[1], output_size),\n",
    "                      nn.LogSoftmax(dim=1))\n",
    "print(model)"
   ]
  },
  {
   "cell_type": "code",
   "execution_count": 12,
   "metadata": {},
   "outputs": [],
   "source": [
    "criterion = nn.NLLLoss()\n",
    "images, labels = next(iter(train_loader))\n",
    "images = images.view(images.shape[0], -1)\n",
    "\n",
    "logps = model(images) #log probabilities\n",
    "loss = criterion(logps, labels) #calculate the NLL loss"
   ]
  },
  {
   "cell_type": "markdown",
   "metadata": {
    "id": "Ck3g3CzYXb-f"
   },
   "source": [
    "# *Core Training Process*"
   ]
  },
  {
   "cell_type": "code",
   "execution_count": 13,
   "metadata": {},
   "outputs": [
    {
     "name": "stdout",
     "output_type": "stream",
     "text": [
      "Epoch 0 - Training loss: 0.6381996843084379\n",
      "Epoch 1 - Training loss: 0.25450515456411865\n",
      "Epoch 2 - Training loss: 0.18598786250673835\n",
      "Epoch 3 - Training loss: 0.1467633237622074\n",
      "Epoch 4 - Training loss: 0.12085239167974085\n",
      "Epoch 5 - Training loss: 0.10226621743579414\n",
      "Epoch 6 - Training loss: 0.08796641830730989\n",
      "Epoch 7 - Training loss: 0.07639633603006353\n",
      "Epoch 8 - Training loss: 0.06675547186337544\n",
      "Epoch 9 - Training loss: 0.058857164943595004\n",
      "Epoch 10 - Training loss: 0.0521148114651112\n",
      "Epoch 11 - Training loss: 0.04634691768226935\n",
      "Epoch 12 - Training loss: 0.0411090055376725\n",
      "Epoch 13 - Training loss: 0.036668390465497316\n",
      "Epoch 14 - Training loss: 0.032409867360454085\n",
      "\n",
      "Training Time (in minutes) = 3.179227431615194\n"
     ]
    }
   ],
   "source": [
    "SGDoptimizer = optim.SGD(model.parameters(), lr=0.003, momentum=0.9)\n",
    "time0 = time()\n",
    "epochs = 15\n",
    "for e in range(epochs):\n",
    "    running_loss = 0\n",
    "    for images, labels in train_loader:\n",
    "        # Flatten MNIST images into a 784 long vector\n",
    "        images = images.view(images.shape[0], -1)\n",
    "    \n",
    "        # Training pass\n",
    "        SGDoptimizer.zero_grad()\n",
    "        \n",
    "        output = model(images)\n",
    "        loss = criterion(output, labels)\n",
    "        \n",
    "        #This is where the model learns by backpropagating\n",
    "        loss.backward()\n",
    "        \n",
    "        #And optimizes its weights here\n",
    "        SGDoptimizer.step()\n",
    "        \n",
    "        running_loss += loss.item()\n",
    "    else:\n",
    "        print(\"Epoch {} - Training loss: {}\".format(e, running_loss/len(train_loader)))\n",
    "print(\"\\nTraining Time (in minutes) =\",(time()-time0)/60)"
   ]
  },
  {
   "cell_type": "code",
   "execution_count": 14,
   "metadata": {},
   "outputs": [],
   "source": [
    "def view_classify(img, ps):\n",
    "    ''' Function for viewing an image and it's predicted classes.\n",
    "    '''\n",
    "    ps = ps.data.numpy().squeeze()\n",
    "\n",
    "    fig, (ax1, ax2) = plt.subplots(figsize=(6,9), ncols=2)\n",
    "    ax1.imshow(img.resize_(1, 28, 28).numpy().squeeze())\n",
    "    ax1.axis('off')\n",
    "    ax2.barh(np.arange(10), ps)\n",
    "    ax2.set_aspect(0.1)\n",
    "    ax2.set_yticks(np.arange(10))\n",
    "    ax2.set_yticklabels(np.arange(10))\n",
    "    ax2.set_title('Class Probability')\n",
    "    ax2.set_xlim(0, 1.1)\n",
    "    plt.tight_layout()"
   ]
  },
  {
   "cell_type": "code",
   "execution_count": 15,
   "metadata": {},
   "outputs": [
    {
     "name": "stdout",
     "output_type": "stream",
     "text": [
      "Predicted Digit = 3\n"
     ]
    },
    {
     "data": {
      "image/png": "[encoded data removed]",
      "text/plain": [
       "<Figure size 432x648 with 2 Axes>"
      ]
     },
     "metadata": {
      "needs_background": "light"
     },
     "output_type": "display_data"
    }
   ],
   "source": [
    "images, labels = next(iter(val_loader))\n",
    "\n",
    "img = images[0].view(1, 784)\n",
    "with torch.no_grad():\n",
    "    logps = model(img)\n",
    "\n",
    "ps = torch.exp(logps)\n",
    "probab = list(ps.numpy()[0])\n",
    "print(\"Predicted Digit =\", probab.index(max(probab)))\n",
    "view_classify(img.view(1, 28, 28), ps)"
   ]
  },
  {
   "cell_type": "markdown",
   "metadata": {
    "id": "5Fa6a-iG6APN"
   },
   "source": [
    "## *sauvgarder notre model*"
   ]
  },
  {
   "cell_type": "code",
   "execution_count": 16,
   "metadata": {
    "id": "d_1m-AxXp6G2"
   },
   "outputs": [],
   "source": [
    "# Specify a path\n",
    "PATH = \"projet_ia2.pt\"\n",
    "\n",
    "# Save\n",
    "torch.save(model.state_dict(), PATH)\n"
   ]
  },
  {
   "cell_type": "markdown",
   "metadata": {
    "id": "hJ_l68xApu09"
   },
   "source": [
    "# ***l'interface graphique:***"
   ]
  },
  {
   "cell_type": "code",
   "execution_count": 17,
   "metadata": {
    "id": "NRMk2DUeKOL-"
   },
   "outputs": [],
   "source": [
    "def prepare_image(path: str):\n",
    "    \"\"\"\n",
    "    Converting image to MNIST dataset format\n",
    "    \"\"\"\n",
    "\n",
    "    im = Image.open(path).convert('L')\n",
    "    width = float(im.size[0])\n",
    "    height = float(im.size[1])\n",
    "    new_image = Image.new('L', (28, 28), (255))  # creates white canvas of 28x28 pixels\n",
    "\n",
    "    if width > height:  # check which dimension is bigger\n",
    "        # Width is bigger. Width becomes 20 pixels.\n",
    "        nheight = int(round((20.0 / width * height), 0))  # resize height according to ratio width\n",
    "        if (nheight == 0):  # rare case but minimum is 1 pixel\n",
    "            nheight = 1\n",
    "            # resize and sharpen\n",
    "        img = im.resize((20, nheight), Image.ANTIALIAS).filter(ImageFilter.SHARPEN)\n",
    "        wtop = int(round(((28 - nheight) / 2), 0))  # calculate horizontal position\n",
    "        new_image.paste(img, (4, wtop))  # paste resized image on white canvas\n",
    "    else:\n",
    "        # Height is bigger. Heigth becomes 20 pixels.\n",
    "        nwidth = int(round((20.0 / height * width), 0))  # resize width according to ratio height\n",
    "        if (nwidth == 0):  # rare case but minimum is 1 pixel\n",
    "            nwidth = 1\n",
    "            # resize and sharpen\n",
    "        img = im.resize((nwidth, 20), Image.ANTIALIAS).filter(ImageFilter.SHARPEN)\n",
    "        wleft = int(round(((28 - nwidth) / 2), 0))  # caculate vertical pozition\n",
    "        new_image.paste(img, (wleft, 4))  # paste resized image on white canvas\n",
    "\n",
    "    pixels = list(new_image.getdata())  # get pixel values\n",
    "    pixels_normalized = [(255 - x) * 1.0 / 255.0 for x in pixels]\n",
    "\n",
    "    # Need adequate shape\n",
    "    adequate_shape = np.reshape(pixels_normalized, (1, 28, 28))\n",
    "    output = torch.FloatTensor(adequate_shape).unsqueeze(0)\n",
    "    return output"
   ]
  },
  {
   "cell_type": "code",
   "execution_count": 18,
   "metadata": {
    "id": "Ov8LK0YZ6G0P"
   },
   "outputs": [],
   "source": [
    "\n",
    "PATH = \"projet_ia2.pt\"\n",
    "NET = model\n",
    "NET.load_state_dict(torch.load(PATH))\n",
    "NET.eval()\n",
    "\n",
    "\n",
    "class Window(QMainWindow):\n",
    "\n",
    "    def __init__(self):\n",
    "        super().__init__()\n",
    "        self.setFixedSize(400, 400)\n",
    "        self.setWindowTitle('Handwritten digit recognition')\n",
    "\n",
    "        self.image = QImage(self.size(), QImage.Format_RGB32)\n",
    "        self.image.fill(Qt.white)\n",
    "\n",
    "        self.init_text()\n",
    "\n",
    "        self.drawing = False\n",
    "        self.brush_size = 8\n",
    "        self.brush_color = Qt.black\n",
    "        self.last_point = QPoint()\n",
    "\n",
    "        self.init_btn_clear()\n",
    "        self.init_btn_recognize()\n",
    "\n",
    "    def mousePressEvent(self, event: QMouseEvent):\n",
    "        if event.button() == Qt.LeftButton:\n",
    "            self.drawing = True\n",
    "            self.last_point = event.pos()\n",
    "\n",
    "    def mouseMoveEvent(self, event: QMouseEvent):\n",
    "        if (event.buttons() & Qt.LeftButton) & self.drawing:\n",
    "            painter = QPainter(self.image)\n",
    "            painter.setPen(QPen(self.brush_color, self.brush_size, Qt.SolidLine, Qt.RoundCap, Qt.RoundJoin))\n",
    "            painter.drawLine(self.last_point, event.pos())\n",
    "            self.last_point = event.pos()\n",
    "            self.update()\n",
    "\n",
    "    def mouseReleaseEvent(self, event: QMouseEvent):\n",
    "        if event.button() == Qt.LeftButton:\n",
    "            self.drawing = False\n",
    "\n",
    "    def paintEvent(self, event: QPaintEvent):\n",
    "        canvas_painter = QPainter(self)\n",
    "        canvas_painter.drawImage(self.rect(), self.image, self.image.rect())\n",
    "\n",
    "    def init_btn_clear(self):\n",
    "        btn = QPushButton('Clear', self)\n",
    "        btn.resize(80, 25)\n",
    "        btn.move(50, 340)\n",
    "        btn.show()\n",
    "        btn.clicked.connect(self.clear)\n",
    "\n",
    "    def clear(self):\n",
    "        self.image.fill(Qt.white)\n",
    "        self.text.setText('')\n",
    "        self.update()\n",
    "\n",
    "    def init_btn_recognize(self):\n",
    "        btn = QPushButton('Recognize', self)\n",
    "        btn.resize(80, 25)\n",
    "        btn.move(150, 340)\n",
    "        btn.show()\n",
    "        btn.clicked.connect(self.recognize)\n",
    "\n",
    "    def init_text(self):\n",
    "        self.text = QTextEdit(self)\n",
    "        self.text.setReadOnly(True)\n",
    "        self.text.setLineWrapMode(QTextEdit.NoWrap)\n",
    "        self.text.insertPlainText('')\n",
    "        font = self.text.font()\n",
    "        font.setFamily('Rockwell')\n",
    "        font.setPointSize(25)\n",
    "        self.text.setFont(font)\n",
    "        self.text.resize(50, 50)\n",
    "        self.text.move(266, 324)\n",
    "\n",
    "    def recognize(self):\n",
    "        # Convert to image\n",
    "        image = self.image.convertToFormat(QImage.Format_ARGB32)\n",
    "        width = image.width()\n",
    "        height = image.height()\n",
    "        ptr = image.constBits()\n",
    "        arr = np.frombuffer(ptr, np.uint8).reshape((height, width, 4))\n",
    "        im = Image.fromarray(arr[..., :3])\n",
    "        im.save('dataset/img.png')\n",
    "\n",
    "        # Evaluate net and show result\n",
    "        input_img = prepare_image('dataset/img.png')\n",
    "        prediction = torch.argmax(NET(input_img)).item()\n",
    "        self.text.setText(' '+str(prediction))"
   ]
  },
  {
   "cell_type": "code",
   "execution_count": null,
   "metadata": {
    "id": "10rfzoI_K6kT"
   },
   "outputs": [],
   "source": [
    "import sys\n",
    "app = QApplication(sys.argv)\n",
    "window = Window()\n",
    "window.show()\n",
    "app.exec_()"
   ]
  },
  {
   "cell_type": "code",
   "execution_count": null,
   "metadata": {},
   "outputs": [],
   "source": []
  }
 ],
 "metadata": {
  "accelerator": "GPU",
  "colab": {
   "name": "Untitled1.ipynb",
   "private_outputs": true,
   "provenance": []
  },
  "kernelspec": {
   "display_name": "Python 3",
   "language": "python",
   "name": "python3"
  },
  "language_info": {
   "codemirror_mode": {
    "name": "ipython",
    "version": 3
   },
   "file_extension": ".py",
   "mimetype": "text/x-python",
   "name": "python",
   "nbconvert_exporter": "python",
   "pygments_lexer": "ipython3",
   "version": "3.8.5"
  }
 },
 "nbformat": 4,
 "nbformat_minor": 1
}
